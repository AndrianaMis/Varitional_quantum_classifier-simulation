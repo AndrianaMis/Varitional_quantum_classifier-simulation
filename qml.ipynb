{
 "cells": [
  {
   "cell_type": "code",
   "execution_count": 3,
   "id": "147556d4-bbbb-4c03-bd24-394d62ceae05",
   "metadata": {},
   "outputs": [
    {
     "name": "stdout",
     "output_type": "stream",
     "text": [
      "State of qubit 0 after Hadamard gate:\n",
      "[0.70710678 0.70710678]\n"
     ]
    }
   ],
   "source": [
    "import numpy as np\n",
    "\n",
    "# Define Pauli matrices\n",
    "X = np.array([[0, 1], [1, 0]])\n",
    "Y = np.array([[0, -1j], [1j, 0]])\n",
    "Z = np.array([[1, 0], [0, -1]])\n",
    "\n",
    "# Define Hadamard gate\n",
    "H = (1/np.sqrt(2)) * np.array([[1, 1], [1, -1]])\n",
    "\n",
    "# Define qubits\n",
    "qubit0 = np.array([1, 0])  # |0>\n",
    "qubit1 = np.array([1, 0])  # |0>\n",
    "\n",
    "# Apply Hadamard gate to qubit 0\n",
    "qubit1 = np.dot(H, qubit1)\n",
    "\n",
    "# Print state of qubit 0 after Hadamard gate\n",
    "print(\"State of qubit 0 after Hadamard gate:\")\n",
    "print(qubit1)\n"
   ]
  },
  {
   "cell_type": "code",
   "execution_count": null,
   "id": "91214bcd-b5ef-46c9-b521-bf269eb76816",
   "metadata": {},
   "outputs": [],
   "source": []
  },
  {
   "cell_type": "code",
   "execution_count": 4,
   "id": "4d7c9c08-e791-4289-a66e-1d7509130c0a",
   "metadata": {},
   "outputs": [],
   "source": [
    "import numpy as np\n",
    "\n",
    "classA_data = np.loadtxt('classA_train.dat', delimiter='\\t')\n",
    "classB_data = np.loadtxt('classB_train.dat', delimiter='\\t')\n",
    "np.set_printoptions(precision=17, suppress=False)\n",
    "\n"
   ]
  },
  {
   "cell_type": "code",
   "execution_count": 126,
   "id": "54a6eab4-28db-4d7b-ba75-7f1302db011c",
   "metadata": {},
   "outputs": [
    {
     "name": "stdout",
     "output_type": "stream",
     "text": [
      "Class A Data:\n",
      "[-0.0213693207939733  1.0163426091550307  1.076851867211415 ]\n",
      "\n",
      "Class B Data:\n",
      "[0.080523695123608   0.9765466754734927  0.01419055980597866]\n"
     ]
    }
   ],
   "source": [
    "print(\"Class A Data:\")\n",
    "print(classA_data[0])\n",
    "print(\"\\nClass B Data:\")\n",
    "print(classB_data[0])"
   ]
  },
  {
   "cell_type": "code",
   "execution_count": null,
   "id": "7d4b2b10-341c-4c4f-9dd3-8ab0bf6fca12",
   "metadata": {},
   "outputs": [],
   "source": []
  },
  {
   "cell_type": "code",
   "execution_count": 135,
   "id": "47ca0985-3cbf-4c59-acbc-e3bf80f87e01",
   "metadata": {},
   "outputs": [
    {
     "name": "stdout",
     "output_type": "stream",
     "text": [
      "[-0.9040470529080318  0.8940930776226766  1.                ]\n"
     ]
    }
   ],
   "source": [
    "from sklearn.preprocessing import MinMaxScaler \n",
    "#normalize to [0,1]\n",
    "scaler=MinMaxScaler(feature_range=(-1, 1))\n",
    "\n",
    "trainA_norm=scaler.fit_transform(classA_data)\n",
    "trainB_norm=scaler.fit_transform(classB_data)\n",
    "print(trainA_norm[0])"
   ]
  },
  {
   "cell_type": "code",
   "execution_count": null,
   "id": "eed48bb1-dc51-45c6-9c73-d805fc15f636",
   "metadata": {},
   "outputs": [],
   "source": []
  },
  {
   "cell_type": "code",
   "execution_count": 146,
   "id": "2e4c3eac-0e0b-444e-8eab-7d3200a8a6d9",
   "metadata": {},
   "outputs": [
    {
     "name": "stdout",
     "output_type": "stream",
     "text": [
      "[-0.03356685060927506  1.5964672372258635   1.6915149575179163 ]\n"
     ]
    }
   ],
   "source": [
    "#map to angles (angle encoding)\n",
    "angles_A=classA_data * np.pi/2\n",
    "angles_B=classB_data * np.pi/2\n",
    "print(angles_A[0])"
   ]
  },
  {
   "cell_type": "code",
   "execution_count": 147,
   "id": "af1c9a46-4bf0-4da3-8d93-3aaff957d89b",
   "metadata": {},
   "outputs": [],
   "source": [
    "#Define the Ry gate\n",
    "def apply_Ry(state, theta):\n",
    "    cos=np.cos(theta/2)\n",
    "    sin=np.sin(theta/2)\n",
    "    Ry=np.array([[cos, -sin], [sin, cos]], dtype=complex)\n",
    "    new_state = np.dot(Ry, state)\n",
    "    return new_state / np.linalg.norm(new_state)\n",
    "    \n",
    "#define the CNOT gate\n",
    "def apply_CNOT(control, target):\n",
    "    combined_state = np.kron(control, target)\n",
    "    CNOT = np.array([\n",
    "        [1, 0, 0, 0],\n",
    "        [0, 1, 0, 0],\n",
    "        [0, 0, 0, 1],\n",
    "        [0, 0, 1, 0]\n",
    "    ], dtype=complex)\n",
    "    result = np.dot(CNOT, combined_state).reshape((2, 2))\n",
    "    result = result / np.linalg.norm(result)\n",
    "    return result\n",
    "\n"
   ]
  },
  {
   "cell_type": "code",
   "execution_count": 148,
   "id": "4cbd0ca6-7ca7-4bd7-9340-3e41af2e6977",
   "metadata": {},
   "outputs": [
    {
     "name": "stdout",
     "output_type": "stream",
     "text": [
      "20\n",
      "Encoded Quantum States for First Row of Data:\n",
      "(0.9994366861651128+0j) (-0.033560547482095686+0j)\n",
      "(-0.025668091020849194+0j) (0.9996705202732277+0j)\n",
      "(-0.12042563910382104+0j) (0.9927223506330642+0j)\n"
     ]
    }
   ],
   "source": [
    "#circuit design\n",
    "\n",
    "#ANGLE ENCODING \n",
    "def encode(angles):\n",
    "    qubits=angles.shape[1]\n",
    "    final_states=[]\n",
    "    \n",
    "    #for each row of the data\n",
    "    for angle in angles:\n",
    "        #initialize qubits to |0>\n",
    "        q_states=[np.array([1,0], dtype=complex) for _ in range(qubits)]\n",
    "    \n",
    "        #for each quantum state of the qbit apply the Ry gate\n",
    "        for i in range(qubits):\n",
    "            q_states[i]=apply_Ry(q_states[i], angle[i])\n",
    "           \n",
    "        final_states.append(q_states)\n",
    "    return final_states\n",
    "\n",
    "finalstates_A = encode(angles_A)\n",
    "states_B=encode(angles_B)\n",
    "print(len(final_states_A))\n",
    "\n",
    "# The gate rotate the quantum states in a way that encodes the information from your data into the quantum state of the qubits\n",
    "print(\"Encoded Quantum States for First Row of Data:\")\n",
    "#state for each qubit of 1st row\n",
    "\n",
    "for st in states_A[0]:\n",
    "    print(st[0] ,st[1])\n",
    "    "
   ]
  },
  {
   "cell_type": "code",
   "execution_count": 149,
   "id": "bd5ec3a3-9b04-4108-8605-e57d60813df5",
   "metadata": {},
   "outputs": [
    {
     "name": "stdout",
     "output_type": "stream",
     "text": [
      "3\n"
     ]
    }
   ],
   "source": [
    "qubits=len(states_A[0])\n",
    "print(qubits)\n",
    "\n"
   ]
  },
  {
   "cell_type": "code",
   "execution_count": 150,
   "id": "99716871-461b-4d25-85f6-70aff80c466e",
   "metadata": {},
   "outputs": [],
   "source": [
    "#circuit design\n",
    "def apply_Rx(state, theta):\n",
    "    cos = np.cos(theta / 2)\n",
    "    sin = np.sin(theta / 2)\n",
    "    Rx = np.array([\n",
    "        [cos, -1j * sin],\n",
    "        [-1j * sin, cos]\n",
    "    ], dtype=complex)\n",
    "    new_state=np.dot(Rx, state)\n",
    "    return new_state / np.linalg.norm(new_state)\n",
    "\n",
    "\n",
    "\n",
    "#VARIATIONAL MODEL\n",
    "def circuit(states, parameters):\n",
    "    qubits=len(states[0])\n",
    "    finals=[]\n",
    "    for s in states:\n",
    "        new_state = [np.copy(q) for q in s]  # Copy the state to avoid in-place modifications\n",
    "        for i in range(qubits):\n",
    "            new_state[i] = apply_Rx(new_state[i], parameters[i])\n",
    "            new_state[i] = apply_Ry(new_state[i], parameters[i + qubits])\n",
    "\n",
    "                # Apply CNOT gate\n",
    "        for i in range(qubits - 1):  # Loop over all qubits except the last one\n",
    "            control = new_state[i]\n",
    "            target = new_state[i + 1]\n",
    "            combined_state = apply_CNOT(control, target)\n",
    "            new_state[i] = combined_state[:, 0]  # Extract the new state of control qubit\n",
    "            new_state[i + 1] = combined_state[:, 1]         \n",
    "        finals.append(new_state)\n",
    "    return finals\n",
    "\n",
    "            \n",
    "    \n"
   ]
  },
  {
   "cell_type": "code",
   "execution_count": 151,
   "id": "574f7e2f-613d-4f15-8cdd-11f25372887d",
   "metadata": {},
   "outputs": [
    {
     "name": "stdout",
     "output_type": "stream",
     "text": [
      "initial parameters:  0.12647127652330267\n",
      "First row of data after cicuit with random theta:\n",
      "(-0.08878127467934313-0.009533453352265983j) (0.012762166470103425+0.010217696549871601j)\n",
      "(-0.06491377419794246+0.0322025067460508j) (-0.0010461960925231787-0.0010298731221924885j)\n",
      "(0.9973461325925249-0.00690838189260682j) (0.00010111081834762885+3.3951429317686376e-05j)\n"
     ]
    }
   ],
   "source": [
    "num_qubits = 3\n",
    "num_params = 2 * num_qubits  # Each qubit has Rx and Ry\n",
    "\n",
    "# Choose the standard deviation for parameter initialization\n",
    "std_dev = 0.1\n",
    "\n",
    "# Initialize parameters from a normal distribution\n",
    "initial_parameters = np.random.normal(loc=0, scale=std_dev, size=num_params)\n",
    "finalsA=circuit(states_A, initial_parameters)\n",
    "finalsB=circuit(states_B, initial_parameters)\n",
    "\n",
    "print(\"initial parameters: \", initial_parameters[4])\n",
    "\n",
    "print(\"First row of data after cicuit with random theta:\")\n",
    "for st in (finalsA[0]):\n",
    "    print(st[0], st[1])"
   ]
  },
  {
   "cell_type": "code",
   "execution_count": 154,
   "id": "7e731b13-6d3d-41fd-91b5-2d162df743dd",
   "metadata": {},
   "outputs": [
    {
     "name": "stdout",
     "output_type": "stream",
     "text": [
      "f theta is:\n",
      "0.9343624425642052\n",
      "f theta is:\n",
      "0.990159878215815\n",
      "f theta is:\n",
      "0.9854713981680558\n",
      "f theta is:\n",
      "0.879493880865435\n",
      "f theta is:\n",
      "0.9181046256332737\n",
      "f theta is:\n",
      "-0.9128208744615527\n",
      "f theta is:\n",
      "0.9352682613930131\n",
      "f theta is:\n",
      "-0.939398931055979\n",
      "f theta is:\n",
      "0.9566842868093558\n",
      "f theta is:\n",
      "-0.4940801525730776\n",
      "f theta is:\n",
      "0.9854128574256121\n",
      "f theta is:\n",
      "0.3993297405007868\n",
      "f theta is:\n",
      "-0.9361167183287273\n",
      "f theta is:\n",
      "0.9931176757898662\n",
      "f theta is:\n",
      "0.812918666032282\n",
      "f theta is:\n",
      "-0.9851775587429044\n",
      "f theta is:\n",
      "-0.9490496949588119\n",
      "f theta is:\n",
      "0.49477434907932605\n",
      "f theta is:\n",
      "-0.9408712103338055\n",
      "f theta is:\n",
      "-0.2106299239587302\n",
      "f theta is:\n",
      "-0.5244793954050001\n",
      "f theta is:\n",
      "0.16153311780603086\n",
      "f theta is:\n",
      "-0.284702633162722\n",
      "f theta is:\n",
      "0.902043336548429\n",
      "f theta is:\n",
      "0.0006978423093268518\n",
      "f theta is:\n",
      "-0.0033794427951683225\n",
      "f theta is:\n",
      "-0.03230395032440371\n",
      "f theta is:\n",
      "0.0019181968544088846\n",
      "f theta is:\n",
      "-0.02540166567359864\n",
      "f theta is:\n",
      "0.007348264405418088\n",
      "f theta is:\n",
      "0.5458805350270003\n",
      "f theta is:\n",
      "0.06534045021344914\n",
      "f theta is:\n",
      "0.16425632228242645\n",
      "f theta is:\n",
      "0.004639833715500316\n",
      "f theta is:\n",
      "0.6068293722486995\n",
      "f theta is:\n",
      "-0.0008867254255890662\n",
      "f theta is:\n",
      "0.3341689579683707\n",
      "f theta is:\n",
      "0.06333996020472364\n",
      "f theta is:\n",
      "0.1205432079641262\n",
      "f theta is:\n",
      "-0.1046713648313604\n",
      "['classA', 'classA', 'classA', 'classA', 'classA', 'classB', 'classA', 'classB', 'classA', 'classB', 'classA', 'classA', 'classB', 'classA', 'classA', 'classB', 'classB', 'classA', 'classB', 'classB']\n",
      "['classB', 'classA', 'classB', 'classA', 'classA', 'classB', 'classB', 'classA', 'classB', 'classA', 'classA', 'classA', 'classA', 'classA', 'classA', 'classB', 'classA', 'classA', 'classA', 'classB']\n"
     ]
    }
   ],
   "source": [
    "M = np.array([[1, 0], [0, -1]], dtype=complex)\n",
    "basis_state0=np.array([1 , 0], dtype=complex)    #|0> state\n",
    "basis_state1=np.array([0 , 1 ], dtype=complex)   #|1> state\n",
    "\n",
    "qubits=3;\n",
    "\n",
    "def caclf(qstate):\n",
    "    #print(qstate[0]  ,   qstate[1])\n",
    "    alpha=qstate[0]\n",
    "    beta=qstate[1]\n",
    "    norm_factor = np.sqrt(np.abs(alpha)**2 + np.abs(beta)**2)\n",
    "    alpha_norm = alpha / norm_factor\n",
    "    beta_norm = beta / norm_factor\n",
    "    ket=alpha_norm*basis_state0 + beta_norm*basis_state1\n",
    "    #pr1=np.abs(alpha_norm)**2\n",
    "    #prm1=np.abs(beta_norm)**2\n",
    "    bra = np.conj(ket).T\n",
    "    m_res = np.dot(M, ket)\n",
    "    # Calculate f_theta(x) as bra * Z * ket\n",
    "    f_theta = np.dot(bra, m_res)\n",
    "    return np.real(f_theta)\n",
    "\n",
    "\n",
    "def classify(states_allq):\n",
    "    f_theta_prod=1\n",
    "    for i in states_allq:\n",
    "        #print(\"ΓΙΑ καθε qbit\")\n",
    "        #print(i)\n",
    "        res=caclf(i)\n",
    "        f_theta_prod*=res\n",
    "\n",
    "    \n",
    "    #1 if classA 0 if classB \n",
    "    print(\"f theta is:\")\n",
    "    print(f_theta_prod)\n",
    "    return \"classA\" if f_theta_prod > 0 else \"classB\"\n",
    "\n",
    "            \n",
    "\n",
    "\n",
    "   \n",
    "#def f_for_each_qbit(state)\n",
    "predA=[]\n",
    "predB=[]\n",
    "for finalA in finalsA:\n",
    "    pr = classify(finalA)\n",
    "    predA.append(pr)\n",
    "\n",
    "for finalB in finalsB:\n",
    "    prb=classify(finalB)\n",
    "    predB.append(prb)\n",
    "    \n",
    "print(predA)\n",
    "print(predB)\n",
    "\n"
   ]
  },
  {
   "cell_type": "code",
   "execution_count": 19,
   "id": "3b43b0f7-6b01-4865-a399-8f92669ce738",
   "metadata": {},
   "outputs": [],
   "source": [
    "#: Collapse each qubit’s wave function to obtain one of the quantum states of the computational basis.\n",
    "\n",
    "basis_state0=np.array([1 + 0j, 0 + 0j])    #|0> state\n",
    "basis_state1=np.array([0 + 0j, 1 + 0j])   #|1> state\n",
    "\n",
    "\n",
    "def calculate_probabilities(qubit_state):\n",
    "    # Define |0⟩ and |1⟩ states\n",
    "    basis_state0 = np.array([1 + 0j, 0 + 0j])  # |0⟩ state\n",
    "    basis_state1 = np.array([0 + 0j, 1 + 0j])  # |1⟩ state\n",
    "    \n",
    "    # Calculate the probabilities of measuring |0⟩ and |1⟩ states\n",
    "    prob_1 = np.abs(np.dot(qubit_state, basis_state1)) ** 2\n",
    "    prob_0 = 1-prob_1\n",
    "    \n",
    "    return prob_0, prob_1\n",
    "binaries=[]\n",
    "# Iterate through each final quantum state in finalsA\n",
    "for final_state in finalsA:\n",
    "    # Iterate through each qubit in the final quantum state\n",
    "    measurements =[]\n",
    "    for qubit_state in final_state:\n",
    "        # Calculate probabilities of measuring |0⟩ and |1⟩ states for the current qubit\n",
    "        prob_0, prob_1 = calculate_probabilities(qubit_state)\n",
    "        \n",
    "       # print(\"Prob0:\", prob_0)\n",
    "        #print(\"Prob1:\", prob_1)\n",
    "        \n",
    "        # Generate random outcome based on probabilities\n",
    "        measurement = np.random.choice([0, 1], p=[prob_0, prob_1])\n",
    "        measurements.append(str(measurement))\n",
    "    bmeasur=''.join(measurements)\n",
    "    binaries.append(bmeasur)\n",
    "\n",
    "    \n",
    "\n",
    "    \n",
    "\n"
   ]
  },
  {
   "cell_type": "code",
   "execution_count": null,
   "id": "e66ca6ed-7cee-4b4e-9590-2c9bd2e9adff",
   "metadata": {},
   "outputs": [],
   "source": []
  },
  {
   "cell_type": "code",
   "execution_count": 20,
   "id": "3aa4afb8-19b4-4490-ae1b-a5dc95b6b150",
   "metadata": {},
   "outputs": [
    {
     "name": "stdout",
     "output_type": "stream",
     "text": [
      "Outcome: 000, Probability: 0.4\n",
      "Outcome: 100, Probability: 0.25\n",
      "Outcome: 101, Probability: 0.15\n",
      "Outcome: 010, Probability: 0.2\n"
     ]
    }
   ],
   "source": [
    "from collections import Counter\n",
    "\n",
    "# Example measurement outcomes (binary strings)\n",
    "\n",
    "# Count occurrences of each unique outcome\n",
    "outcome_counts = Counter(binaries)\n",
    "\n",
    "# Total number of measurements\n",
    "total_measurements = len(binaries)\n",
    "\n",
    "# Calculate probability of each outcome\n",
    "outcome_probabilities = {outcome: count / total_measurements for outcome, count in outcome_counts.items()}\n",
    "\n",
    "# Print probabilities\n",
    "for outcome, probability in outcome_probabilities.items():\n",
    "    print(f\"Outcome: {outcome}, Probability: {probability}\")\n"
   ]
  },
  {
   "cell_type": "code",
   "execution_count": 327,
   "id": "b25229ab-47d0-4b2e-9c9b-1982de99c480",
   "metadata": {},
   "outputs": [
    {
     "name": "stdout",
     "output_type": "stream",
     "text": [
      "Labels: even\n"
     ]
    }
   ],
   "source": [
    "def determine_parity(probabilities):\n",
    "    num_ones = sum(int(outcome) for outcome in probabilities)\n",
    "    return num_ones % 2 == 0  # True if even parity, False if odd parity\n",
    "\n",
    "# Extract labels based on parity\n",
    "def extract_labels(probabilities):\n",
    "    parity = determine_parity(probabilities)\n",
    "    return 'even' if parity else 'odd'\n",
    "\n",
    "# Example: Extract labels from basis state probabilities\n",
    "labels = extract_labels(outcome_probabilities)\n",
    "print(\"Labels:\", labels)"
   ]
  },
  {
   "cell_type": "code",
   "execution_count": 103,
   "id": "de4f940b-dd01-4399-a5b9-02912196af12",
   "metadata": {},
   "outputs": [
    {
     "name": "stdout",
     "output_type": "stream",
     "text": [
      "3\n"
     ]
    }
   ],
   "source": [
    "print(len(final_states[0]))"
   ]
  }
 ],
 "metadata": {
  "kernelspec": {
   "display_name": "Python 3 (ipykernel)",
   "language": "python",
   "name": "python3"
  },
  "language_info": {
   "codemirror_mode": {
    "name": "ipython",
    "version": 3
   },
   "file_extension": ".py",
   "mimetype": "text/x-python",
   "name": "python",
   "nbconvert_exporter": "python",
   "pygments_lexer": "ipython3",
   "version": "3.8.10"
  }
 },
 "nbformat": 4,
 "nbformat_minor": 5
}
